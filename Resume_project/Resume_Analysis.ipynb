{
 "cells": [
  {
   "cell_type": "code",
   "execution_count": 1,
   "metadata": {},
   "outputs": [
    {
     "ename": "ModuleNotFoundError",
     "evalue": "No module named 'pandas'",
     "output_type": "error",
     "traceback": [
      "\u001b[0;31m---------------------------------------------------------------------------\u001b[0m",
      "\u001b[0;31mModuleNotFoundError\u001b[0m                       Traceback (most recent call last)",
      "\u001b[1;32m/Users/myles/Downloads/Resume_project/Resume_Analysis.ipynb Cell 1\u001b[0m line \u001b[0;36m3\n\u001b[1;32m      <a href='vscode-notebook-cell:/Users/myles/Downloads/Resume_project/Resume_Analysis.ipynb#W0sZmlsZQ%3D%3D?line=0'>1</a>\u001b[0m \u001b[39m# Resume_Analysis.ipynb\u001b[39;00m\n\u001b[0;32m----> <a href='vscode-notebook-cell:/Users/myles/Downloads/Resume_project/Resume_Analysis.ipynb#W0sZmlsZQ%3D%3D?line=2'>3</a>\u001b[0m \u001b[39mimport\u001b[39;00m\u001b[39m \u001b[39m\u001b[39mpandas\u001b[39;00m\u001b[39m \u001b[39m\u001b[39mas\u001b[39;00m\u001b[39m \u001b[39m\u001b[39mpd\u001b[39;00m\n\u001b[1;32m      <a href='vscode-notebook-cell:/Users/myles/Downloads/Resume_project/Resume_Analysis.ipynb#W0sZmlsZQ%3D%3D?line=3'>4</a>\u001b[0m \u001b[39mimport\u001b[39;00m\u001b[39m \u001b[39m\u001b[39mmatplotlib\u001b[39;00m\u001b[39m.\u001b[39;00m\u001b[39mpyplot\u001b[39;00m\u001b[39m \u001b[39m\u001b[39mas\u001b[39;00m\u001b[39m \u001b[39m\u001b[39mplt\u001b[39;00m\n\u001b[1;32m      <a href='vscode-notebook-cell:/Users/myles/Downloads/Resume_project/Resume_Analysis.ipynb#W0sZmlsZQ%3D%3D?line=4'>5</a>\u001b[0m \u001b[39mfrom\u001b[39;00m\u001b[39m \u001b[39m\u001b[39mwordcloud\u001b[39;00m\u001b[39m \u001b[39m\u001b[39mimport\u001b[39;00m WordCloud\n",
      "\u001b[0;31mModuleNotFoundError\u001b[0m: No module named 'pandas'"
     ]
    }
   ],
   "source": [
    "# Resume_Analysis.ipynb\n",
    "\n",
    "import pandas as pd\n",
    "import matplotlib.pyplot as plt\n",
    "from wordcloud import WordCloud\n",
    "import os\n",
    "\n",
    "# Load all resume data from /output\n",
    "folder = 'output'\n",
    "dfs = []\n",
    "\n",
    "for file in os.listdir(folder):\n",
    "    if file.endswith('.csv'):\n",
    "        df = pd.read_csv(os.path.join(folder, file))\n",
    "        df['Source'] = file\n",
    "        dfs.append(df)\n",
    "\n",
    "# Combine all resumes\n",
    "data = pd.concat(dfs, ignore_index=True)\n",
    "print(\"Combined Resume Data:\")\n",
    "display(data)\n",
    "\n",
    "# 🔍 Analyze common organizations\n",
    "orgs = data['Organizations'].dropna().str.split(',').explode().str.strip()\n",
    "org_counts = orgs.value_counts()\n",
    "\n",
    "plt.figure(figsize=(10,5))\n",
    "org_counts.head(10).plot(kind='bar')\n",
    "plt.title(\"Top Organizations Mentioned in Resumes\")\n",
    "plt.ylabel(\"Frequency\")\n",
    "plt.xticks(rotation=45)\n",
    "plt.tight_layout()\n",
    "plt.show()\n",
    "\n",
    "# 🌍 Analyze common locations\n",
    "locs = data['Locations'].dropna().str.split(',').explode().str.strip()\n",
    "loc_counts = locs.value_counts()\n",
    "\n",
    "plt.figure(figsize=(10,5))\n",
    "loc_counts.head(10).plot(kind='bar', color='green')\n",
    "plt.title(\"Top Locations Mentioned\")\n",
    "plt.ylabel(\"Frequency\")\n",
    "plt.xticks(rotation=45)\n",
    "plt.tight_layout()\n",
    "plt.show()\n",
    "\n",
    "# ☁️ Word Cloud for Names (just for visual fun)\n",
    "names_text = ' '.join(data['Name'].dropna())\n",
    "wordcloud = WordCloud(width=800, height=400, background_color='white').generate(names_text)\n",
    "\n",
    "plt.figure(figsize=(10, 5))\n",
    "plt.imshow(wordcloud, interpolation='bilinear')\n",
    "plt.axis(\"off\")\n",
    "plt.title(\"Word Cloud of Names\")\n",
    "plt.show()\n"
   ]
  }
 ],
 "metadata": {
  "kernelspec": {
   "display_name": "Python 3",
   "language": "python",
   "name": "python3"
  },
  "language_info": {
   "codemirror_mode": {
    "name": "ipython",
    "version": 3
   },
   "file_extension": ".py",
   "mimetype": "text/x-python",
   "name": "python",
   "nbconvert_exporter": "python",
   "pygments_lexer": "ipython3",
   "version": "3.9.6"
  },
  "orig_nbformat": 4
 },
 "nbformat": 4,
 "nbformat_minor": 2
}
